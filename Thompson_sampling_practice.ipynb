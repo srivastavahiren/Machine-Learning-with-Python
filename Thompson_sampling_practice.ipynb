{
  "nbformat": 4,
  "nbformat_minor": 0,
  "metadata": {
    "colab": {
      "name": "Thompson_sampling_practice.ipynb",
      "provenance": [],
      "authorship_tag": "ABX9TyPmI1tqNSoTLLQeSWZfqyOa",
      "include_colab_link": true
    },
    "kernelspec": {
      "name": "python3",
      "display_name": "Python 3"
    },
    "language_info": {
      "name": "python"
    }
  },
  "cells": [
    {
      "cell_type": "markdown",
      "metadata": {
        "id": "view-in-github",
        "colab_type": "text"
      },
      "source": [
        "<a href=\"https://colab.research.google.com/github/srivastavahiren/Machine-Learning-with-Python/blob/master/Thompson_sampling_practice.ipynb\" target=\"_parent\"><img src=\"https://colab.research.google.com/assets/colab-badge.svg\" alt=\"Open In Colab\"/></a>"
      ]
    },
    {
      "cell_type": "markdown",
      "source": [
        "##Importing libraries\n",
        "    "
      ],
      "metadata": {
        "id": "F9vkUcQPo86T"
      }
    },
    {
      "cell_type": "code",
      "source": [
        "import numpy as np\n",
        "import pandas as pd\n",
        "import matplotlib.pyplot as plt\n"
      ],
      "metadata": {
        "id": "6A7e-KM1NSMD"
      },
      "execution_count": 1,
      "outputs": []
    },
    {
      "cell_type": "markdown",
      "source": [
        "##Importing Dataset\n"
      ],
      "metadata": {
        "id": "72khYRZ4v_qm"
      }
    },
    {
      "cell_type": "code",
      "source": [
        "dataset = pd.read_csv(\"Ads_CTR_Optimisation.csv\")"
      ],
      "metadata": {
        "id": "de-Vx9xSNbY4"
      },
      "execution_count": 2,
      "outputs": []
    },
    {
      "cell_type": "markdown",
      "source": [
        "##Implementing UCB"
      ],
      "metadata": {
        "id": "1jGoXgcQ7tYy"
      }
    },
    {
      "cell_type": "code",
      "source": [
        "import random\n",
        "N=500\n",
        "d = 10  #no. of ads\n",
        "ads_selected = []\n",
        "numbers_of_rewards_1 = [0] * d\n",
        "numbers_of_rewards_0 = [0] * d\n",
        "total_reward = 0\n",
        "for n in range(N):\n",
        "  ad = 0\n",
        "  max_random = 0\n",
        "  for i in range(d):\n",
        "    random_beta = random.betavariate(numbers_of_rewards_1[i]+1,numbers_of_rewards_0[i]+1)\n",
        "    if(max_random<random_beta):\n",
        "      max_random = random_beta\n",
        "      ad=i\n",
        "    \n",
        "  ads_selected.append(ad)\n",
        "  reward =dataset.values[n,ad] \n",
        "  if(reward==1):\n",
        "    numbers_of_rewards_1[ad]+=1\n",
        "  else:\n",
        "    numbers_of_rewards_0[ad]+=1\n",
        "  total_reward+=reward\n",
        "   \n",
        "\n"
      ],
      "metadata": {
        "id": "a4_wIeEsO3mp"
      },
      "execution_count": 9,
      "outputs": []
    },
    {
      "cell_type": "markdown",
      "source": [
        "##Visualising the results"
      ],
      "metadata": {
        "id": "VV-fS749-4uM"
      }
    },
    {
      "cell_type": "code",
      "source": [
        "plt.hist(ads_selected)\n",
        "plt.title(\"Histogram of ads selection\")\n",
        "plt.xlabel(\"Ads\")\n",
        "plt.ylabel(\"Number of times each ad for selected\")\n",
        "plt.show()"
      ],
      "metadata": {
        "colab": {
          "base_uri": "https://localhost:8080/",
          "height": 295
        },
        "id": "1GkvxUB6NK3H",
        "outputId": "19975f4e-1126-4a1c-d586-2cc87a60ab8f"
      },
      "execution_count": 10,
      "outputs": [
        {
          "output_type": "display_data",
          "data": {
            "text/plain": [
              "<Figure size 432x288 with 1 Axes>"
            ],
            "image/png": "[encoded data removed]"
          },
          "metadata": {
            "needs_background": "light"
          }
        }
      ]
    },
    {
      "cell_type": "code",
      "source": [
        ""
      ],
      "metadata": {
        "id": "Lio9IB1J3v2z"
      },
      "execution_count": null,
      "outputs": []
    }
  ]
}