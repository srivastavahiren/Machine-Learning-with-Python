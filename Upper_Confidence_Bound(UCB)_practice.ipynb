{
  "nbformat": 4,
  "nbformat_minor": 0,
  "metadata": {
    "colab": {
      "name": "Upper_Confidence_Bound(UCB)_practice.ipynb",
      "provenance": [],
      "authorship_tag": "ABX9TyO9T38enSFoe3ez1v7nzoXE",
      "include_colab_link": true
    },
    "kernelspec": {
      "name": "python3",
      "display_name": "Python 3"
    },
    "language_info": {
      "name": "python"
    }
  },
  "cells": [
    {
      "cell_type": "markdown",
      "metadata": {
        "id": "view-in-github",
        "colab_type": "text"
      },
      "source": [
        "<a href=\"https://colab.research.google.com/github/srivastavahiren/Machine-Learning-with-Python/blob/master/Upper_Confidence_Bound(UCB)_practice.ipynb\" target=\"_parent\"><img src=\"https://colab.research.google.com/assets/colab-badge.svg\" alt=\"Open In Colab\"/></a>"
      ]
    },
    {
      "cell_type": "markdown",
      "source": [
        "##Importing libraries\n",
        "    "
      ],
      "metadata": {
        "id": "F9vkUcQPo86T"
      }
    },
    {
      "cell_type": "code",
      "source": [
        "import numpy as np\n",
        "import pandas as pd\n",
        "import matplotlib.pyplot as plt\n"
      ],
      "metadata": {
        "id": "6A7e-KM1NSMD"
      },
      "execution_count": 1,
      "outputs": []
    },
    {
      "cell_type": "markdown",
      "source": [
        "##Importing Dataset\n"
      ],
      "metadata": {
        "id": "72khYRZ4v_qm"
      }
    },
    {
      "cell_type": "code",
      "source": [
        "dataset = pd.read_csv(\"Ads_CTR_Optimisation.csv\")"
      ],
      "metadata": {
        "id": "de-Vx9xSNbY4"
      },
      "execution_count": 2,
      "outputs": []
    },
    {
      "cell_type": "markdown",
      "source": [
        "##Implementing UCB"
      ],
      "metadata": {
        "id": "1jGoXgcQ7tYy"
      }
    },
    {
      "cell_type": "code",
      "source": [
        "import math\n",
        "N=10000\n",
        "d = 10  #no. of ads\n",
        "ads_selected = []\n",
        "numbers_of_selections = [0] * d\n",
        "sums_of_rewards = [0] * d\n",
        "total_reward = 0\n",
        "for n in range(0,N):\n",
        "  ad = 0\n",
        "  max_upper_bound = 0\n",
        "  for i in range(0,d):\n",
        "    if numbers_of_selections[i]>0:\n",
        "      avg_reward = sums_of_rewards[i]/numbers_of_selections[i]\n",
        "      delta_i = math.sqrt(3/2 * math.log(n+1) / numbers_of_selections[i])\n",
        "      upper_bound = avg_reward + delta_i\n",
        "    else:\n",
        "      upper_bound = 1e400\n",
        "    if upper_bound > max_upper_bound:\n",
        "      max_upper_bound = upper_bound\n",
        "      ad = i\n",
        "  ads_selected.append(ad)\n",
        "  numbers_of_selections[ad] +=1\n",
        "  reward = dataset.values[n,ad]\n",
        "  sums_of_rewards[ad] += dataset.values[n,ad]\n",
        "  total_reward+=reward\n",
        "\n",
        "\n"
      ],
      "metadata": {
        "id": "a4_wIeEsO3mp"
      },
      "execution_count": 3,
      "outputs": []
    },
    {
      "cell_type": "markdown",
      "source": [
        "##Visualising the results"
      ],
      "metadata": {
        "id": "VV-fS749-4uM"
      }
    },
    {
      "cell_type": "code",
      "source": [
        "plt.hist(ads_selected)\n",
        "plt.title(\"Histogram of ads selection\")\n",
        "plt.xlabel(\"Ads\")\n",
        "plt.ylabel(\"Number of times each ad for selected\")\n",
        "plt.show()"
      ],
      "metadata": {
        "colab": {
          "base_uri": "https://localhost:8080/",
          "height": 295
        },
        "id": "1GkvxUB6NK3H",
        "outputId": "0c61814a-89cd-47e5-a1c7-620b4229be85"
      },
      "execution_count": 4,
      "outputs": [
        {
          "output_type": "display_data",
          "data": {
            "text/plain": [
              "<Figure size 432x288 with 1 Axes>"
            ],
            "image/png": "[encoded data removed]"
          },
          "metadata": {
            "needs_background": "light"
          }
        }
      ]
    },
    {
      "cell_type": "code",
      "source": [
        ""
      ],
      "metadata": {
        "id": "-OhIxmT7XAO1"
      },
      "execution_count": null,
      "outputs": []
    }
  ]
}