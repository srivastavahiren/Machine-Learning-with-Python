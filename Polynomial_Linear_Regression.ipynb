{
  "nbformat": 4,
  "nbformat_minor": 0,
  "metadata": {
    "colab": {
      "name": "Polynomial Linear Regression.ipynb",
      "provenance": [],
      "toc_visible": true
    },
    "kernelspec": {
      "name": "python3",
      "display_name": "Python 3"
    }
  },
  "cells": [
    {
      "cell_type": "markdown",
      "metadata": {
        "id": "ezgzcsEBwOAc",
        "colab_type": "text"
      },
      "source": [
        "#importing the libraries\n",
        "\n"
      ]
    },
    {
      "cell_type": "code",
      "metadata": {
        "id": "e-XjM9KSwYTi",
        "colab_type": "code",
        "colab": {}
      },
      "source": [
        "import numpy as np\n",
        "import matplotlib.pyplot as plt\n",
        "import pandas as pd"
      ],
      "execution_count": 5,
      "outputs": []
    },
    {
      "cell_type": "markdown",
      "metadata": {
        "id": "DZwXH9xewzvD",
        "colab_type": "text"
      },
      "source": [
        "#importing the dataset"
      ]
    },
    {
      "cell_type": "code",
      "metadata": {
        "id": "W6HXl-fVw7az",
        "colab_type": "code",
        "colab": {}
      },
      "source": [
        "dataset = pd.read_csv('Position_Salaries.csv')\n",
        "x = dataset.iloc[:,1:-1].values\n",
        "y = dataset.iloc[:,-1].values"
      ],
      "execution_count": 6,
      "outputs": []
    },
    {
      "cell_type": "markdown",
      "metadata": {
        "id": "0Tm6dGhbxriw",
        "colab_type": "text"
      },
      "source": [
        "#splitting into training n test sets"
      ]
    },
    {
      "cell_type": "markdown",
      "metadata": {
        "id": "XlqFqx9-zktT",
        "colab_type": "text"
      },
      "source": [
        "#training the linear Regression on the whole dataset"
      ]
    },
    {
      "cell_type": "code",
      "metadata": {
        "id": "kWaDqER9z5cj",
        "colab_type": "code",
        "colab": {
          "base_uri": "https://localhost:8080/",
          "height": 56
        },
        "outputId": "0d2d1213-a40a-443f-9612-0bd1f28e35e9"
      },
      "source": [
        "from sklearn.linear_model import LinearRegression\n",
        "lin_reg = LinearRegression()\n",
        "lin_reg.fit(x,y)"
      ],
      "execution_count": 8,
      "outputs": [
        {
          "output_type": "execute_result",
          "data": {
            "text/plain": [
              "LinearRegression(copy_X=True, fit_intercept=True, n_jobs=None, normalize=False)"
            ]
          },
          "metadata": {
            "tags": []
          },
          "execution_count": 8
        }
      ]
    },
    {
      "cell_type": "markdown",
      "metadata": {
        "id": "wKrS51DH3ER6",
        "colab_type": "text"
      },
      "source": [
        "#training the polynomial linear regression on the whole dataset"
      ]
    },
    {
      "cell_type": "code",
      "metadata": {
        "id": "AxIaiaH23Nc_",
        "colab_type": "code",
        "colab": {
          "base_uri": "https://localhost:8080/",
          "height": 56
        },
        "outputId": "7eac81b5-9eef-4023-827e-270710d97685"
      },
      "source": [
        "from sklearn.preprocessing import PolynomialFeatures\n",
        "poly_reg = PolynomialFeatures(degree = 4)\n",
        "x_poly = poly_reg.fit_transform(x)\n",
        "lin_reg_2 = LinearRegression()\n",
        "lin_reg_2.fit(x_poly,y)"
      ],
      "execution_count": 13,
      "outputs": [
        {
          "output_type": "execute_result",
          "data": {
            "text/plain": [
              "LinearRegression(copy_X=True, fit_intercept=True, n_jobs=None, normalize=False)"
            ]
          },
          "metadata": {
            "tags": []
          },
          "execution_count": 13
        }
      ]
    },
    {
      "cell_type": "markdown",
      "metadata": {
        "id": "mTkhgd5k4Fsb",
        "colab_type": "text"
      },
      "source": [
        "#visualising the lr of the whole dataset"
      ]
    },
    {
      "cell_type": "code",
      "metadata": {
        "id": "KaO8xJ5R4NUk",
        "colab_type": "code",
        "colab": {
          "base_uri": "https://localhost:8080/",
          "height": 295
        },
        "outputId": "e99caf6f-b968-41d7-ea70-1eb38d27ecde"
      },
      "source": [
        "plt.scatter(x,y,color ='red')\n",
        "plt.plot(x,lin_reg.predict(x),color='blue')\n",
        "plt.title('Truth or Bluff(Linear Regression)')\n",
        "plt.xlabel('Position level')\n",
        "plt.ylabel('Salary')\n",
        "plt.show()"
      ],
      "execution_count": 10,
      "outputs": [
        {
          "output_type": "display_data",
          "data": {
            "image/png": "[encoded data removed]",
            "text/plain": [
              "<Figure size 432x288 with 1 Axes>"
            ]
          },
          "metadata": {
            "tags": [],
            "needs_background": "light"
          }
        }
      ]
    },
    {
      "cell_type": "markdown",
      "metadata": {
        "id": "n61kiTwH5tRF",
        "colab_type": "text"
      },
      "source": [
        "#visualising the plr results"
      ]
    },
    {
      "cell_type": "code",
      "metadata": {
        "id": "B5xUyasG5xQu",
        "colab_type": "code",
        "colab": {
          "base_uri": "https://localhost:8080/",
          "height": 295
        },
        "outputId": "46dd62e2-8f11-4de6-f585-3aed897e4461"
      },
      "source": [
        "plt.scatter(x,y,color='red')\n",
        "plt.plot(x,lin_reg_2.predict(x_poly),color='blue')\n",
        "plt.title('Truth or Bluff(Polynomial Linear Regression)')\n",
        "plt.xlabel('Position Level')\n",
        "plt.ylabel('Salary')\n",
        "plt.show()"
      ],
      "execution_count": 14,
      "outputs": [
        {
          "output_type": "display_data",
          "data": {
            "image/png": "[encoded data removed]",
            "text/plain": [
              "<Figure size 432x288 with 1 Axes>"
            ]
          },
          "metadata": {
            "tags": [],
            "needs_background": "light"
          }
        }
      ]
    },
    {
      "cell_type": "markdown",
      "metadata": {
        "id": "jXTKk9VN8Z2o",
        "colab_type": "text"
      },
      "source": [
        "#Visualising plr with higher resolution or smoother curve"
      ]
    },
    {
      "cell_type": "code",
      "metadata": {
        "id": "c5-pTzh98jC9",
        "colab_type": "code",
        "colab": {
          "base_uri": "https://localhost:8080/",
          "height": 295
        },
        "outputId": "c7487834-4379-4a96-df10-1c4d42db6c32"
      },
      "source": [
        "x_grid = np.arange(min(x),max(x),0.1)\n",
        "x_grid = x_grid.reshape((len(x_grid),1))\n",
        "plt.scatter(x,y,color='red')\n",
        "plt.plot(x_grid,lin_reg_2.predict(poly_reg.fit_transform(x_grid)),color='blue')\n",
        "plt.title('Truth or Bluff(Polynomial Linear Regression)')\n",
        "plt.xlabel('Position Level')\n",
        "plt.ylabel('Salary')\n",
        "plt.show()"
      ],
      "execution_count": 18,
      "outputs": [
        {
          "output_type": "display_data",
          "data": {
            "image/png": "[encoded data removed]",
            "text/plain": [
              "<Figure size 432x288 with 1 Axes>"
            ]
          },
          "metadata": {
            "tags": [],
            "needs_background": "light"
          }
        }
      ]
    },
    {
      "cell_type": "markdown",
      "metadata": {
        "id": "-5QZWYXZ-wxo",
        "colab_type": "text"
      },
      "source": [
        "#predicting a new result with lr"
      ]
    },
    {
      "cell_type": "code",
      "metadata": {
        "id": "JjJMHRXZ-1Mg",
        "colab_type": "code",
        "colab": {
          "base_uri": "https://localhost:8080/",
          "height": 36
        },
        "outputId": "b04cf3ca-1e14-45cd-c3a3-166459e390c5"
      },
      "source": [
        "print(lin_reg.predict([[6.5]]))"
      ],
      "execution_count": 19,
      "outputs": [
        {
          "output_type": "stream",
          "text": [
            "[330378.78787879]\n"
          ],
          "name": "stdout"
        }
      ]
    },
    {
      "cell_type": "markdown",
      "metadata": {
        "id": "RkBDJ5AM_Bzn",
        "colab_type": "text"
      },
      "source": [
        "#predicitng a new result with plr"
      ]
    },
    {
      "cell_type": "code",
      "metadata": {
        "id": "R4y0vczU_KFP",
        "colab_type": "code",
        "colab": {
          "base_uri": "https://localhost:8080/",
          "height": 36
        },
        "outputId": "074a8abc-d9eb-47d8-e7db-c951ac26eb15"
      },
      "source": [
        "print(lin_reg_2.predict(poly_reg.fit_transform([[6.5]])))"
      ],
      "execution_count": 23,
      "outputs": [
        {
          "output_type": "stream",
          "text": [
            "[158862.45265155]\n"
          ],
          "name": "stdout"
        }
      ]
    }
  ]
}