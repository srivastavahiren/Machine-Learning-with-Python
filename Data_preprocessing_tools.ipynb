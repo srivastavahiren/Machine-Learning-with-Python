{
  "nbformat": 4,
  "nbformat_minor": 0,
  "metadata": {
    "colab": {
      "name": "Data_preprocessing_tools.ipynb",
      "provenance": [],
      "collapsed_sections": [
        "GM7MyT8fRdOm"
      ]
    },
    "kernelspec": {
      "name": "python3",
      "display_name": "Python 3"
    }
  },
  "cells": [
    {
      "cell_type": "markdown",
      "metadata": {
        "id": "1DHPdODeQ9VY",
        "colab_type": "text"
      },
      "source": [
        "Importing the libraries"
      ]
    },
    {
      "cell_type": "markdown",
      "metadata": {
        "id": "GM7MyT8fRdOm",
        "colab_type": "text"
      },
      "source": [
        "#Importing the Libraries\n"
      ]
    },
    {
      "cell_type": "code",
      "metadata": {
        "id": "X9AKQscDQgK5",
        "colab_type": "code",
        "colab": {}
      },
      "source": [
        "import numpy as np\n",
        "import matplotlib.pyplot as plt\n",
        "import pandas as pd"
      ],
      "execution_count": 1,
      "outputs": []
    },
    {
      "cell_type": "markdown",
      "metadata": {
        "id": "m4r1VRiXRwh6",
        "colab_type": "text"
      },
      "source": [
        "# Importing the dataset\n"
      ]
    },
    {
      "cell_type": "code",
      "metadata": {
        "id": "_ai4vfmhR4Xo",
        "colab_type": "code",
        "colab": {}
      },
      "source": [
        "dataset = pd.read_csv('Data.csv')\n",
        "#x being the matrix of feature/independent variable while y being the matrix of dependent variable\n",
        "x = dataset.iloc[:, :3].values #iloc is the function of pd which locate the indexes ofrows and columns required\n",
        "y = dataset.iloc[:,3].values"
      ],
      "execution_count": 6,
      "outputs": []
    },
    {
      "cell_type": "code",
      "metadata": {
        "id": "aJLFAm0cVxzT",
        "colab_type": "code",
        "colab": {
          "base_uri": "https://localhost:8080/",
          "height": 201
        },
        "outputId": "a5ed8a23-04bb-4a59-de7b-47ee7058eee6"
      },
      "source": [
        "print(x)"
      ],
      "execution_count": 7,
      "outputs": [
        {
          "output_type": "stream",
          "text": [
            "[['France' 44.0 72000.0]\n",
            " ['Spain' 27.0 48000.0]\n",
            " ['Germany' 30.0 54000.0]\n",
            " ['Spain' 38.0 61000.0]\n",
            " ['Germany' 40.0 nan]\n",
            " ['France' 35.0 58000.0]\n",
            " ['Spain' nan 52000.0]\n",
            " ['France' 48.0 79000.0]\n",
            " ['Germany' 50.0 83000.0]\n",
            " ['France' 37.0 67000.0]]\n"
          ],
          "name": "stdout"
        }
      ]
    },
    {
      "cell_type": "code",
      "metadata": {
        "id": "hKJBh8xZV1pp",
        "colab_type": "code",
        "colab": {
          "base_uri": "https://localhost:8080/",
          "height": 35
        },
        "outputId": "9354354f-8e16-4a74-bef4-03ac14876262"
      },
      "source": [
        "print(y)"
      ],
      "execution_count": 8,
      "outputs": [
        {
          "output_type": "stream",
          "text": [
            "['No' 'Yes' 'No' 'No' 'Yes' 'Yes' 'No' 'Yes' 'No' 'Yes']\n"
          ],
          "name": "stdout"
        }
      ]
    },
    {
      "cell_type": "markdown",
      "metadata": {
        "id": "FpEivzxRZEfx",
        "colab_type": "text"
      },
      "source": [
        "# Taking Care of missing data\n"
      ]
    },
    {
      "cell_type": "code",
      "metadata": {
        "id": "ythq1MxrZMUK",
        "colab_type": "code",
        "colab": {}
      },
      "source": [
        "#(Replacing missing with avg of the data)\n",
        "from sklearn.impute import SimpleImputer #datascience library SimpleImputer is a class\n",
        "imputer = SimpleImputer(missing_values = np.nan, strategy='mean')#imputer is the obj \n",
        "imputer.fit(x[:,1:3])#including all the integers\n",
        "x[:,1:3] = imputer.transform(x[:,1:3])#transform method will update the missing values but will not make the diff. in the main matrix\n"
      ],
      "execution_count": 11,
      "outputs": []
    },
    {
      "cell_type": "code",
      "metadata": {
        "id": "xvrZVxtGeJ4-",
        "colab_type": "code",
        "colab": {
          "base_uri": "https://localhost:8080/",
          "height": 201
        },
        "outputId": "419beb1d-80b7-4cca-f2a9-6c5f7b23a2ac"
      },
      "source": [
        "print(x)"
      ],
      "execution_count": 12,
      "outputs": [
        {
          "output_type": "stream",
          "text": [
            "[['France' 44.0 72000.0]\n",
            " ['Spain' 27.0 48000.0]\n",
            " ['Germany' 30.0 54000.0]\n",
            " ['Spain' 38.0 61000.0]\n",
            " ['Germany' 40.0 63777.77777777778]\n",
            " ['France' 35.0 58000.0]\n",
            " ['Spain' 38.77777777777778 52000.0]\n",
            " ['France' 48.0 79000.0]\n",
            " ['Germany' 50.0 83000.0]\n",
            " ['France' 37.0 67000.0]]\n"
          ],
          "name": "stdout"
        }
      ]
    }
  ]
}